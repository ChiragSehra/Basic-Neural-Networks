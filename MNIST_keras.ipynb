{
 "cells": [
  {
   "cell_type": "code",
   "execution_count": 1,
   "metadata": {
    "ExecuteTime": {
     "end_time": "2019-02-18T18:34:07.100255Z",
     "start_time": "2019-02-18T18:34:06.976198Z"
    }
   },
   "outputs": [],
   "source": [
    "import numpy as np\n",
    "import pandas as pd\n",
    "import matplotlib.pyplot as plt\n",
    "%matplotlib inline\n",
    "\n",
    "import keras\n",
    "from keras.layers import Dense, Activation\n",
    "from keras.models import Sequential\n",
    "from keras.utils import np_utils"
   ]
  },
  {
   "cell_type": "code",
   "execution_count": 5,
   "metadata": {
    "ExecuteTime": {
     "end_time": "2019-02-18T18:36:09.933541Z",
     "start_time": "2019-02-18T18:36:07.247688Z"
    }
   },
   "outputs": [
    {
     "name": "stdout",
     "output_type": "stream",
     "text": [
      "(42000, 785)\n"
     ]
    }
   ],
   "source": [
    "df = pd.read_csv(\"../data/NN/train.csv\")\n",
    "\n",
    "data = df.values\n",
    "\n",
    "print df.shape"
   ]
  },
  {
   "cell_type": "code",
   "execution_count": 7,
   "metadata": {
    "ExecuteTime": {
     "end_time": "2019-02-18T18:39:20.663701Z",
     "start_time": "2019-02-18T18:39:20.654306Z"
    }
   },
   "outputs": [
    {
     "name": "stdout",
     "output_type": "stream",
     "text": [
      "(11900, 784) (2100, 784)\n",
      "(11900, 10) (2100, 10)\n"
     ]
    }
   ],
   "source": [
    "data_length = 14000\n",
    "split = int(0.85*data_length)\n",
    "\n",
    "X_train = data[:split,1:]\n",
    "X_val  = data[split:data_length,1:]\n",
    "\n",
    "y_train = np_utils.to_categorical(data[:split,0])\n",
    "y_val = np_utils.to_categorical(data[split:data_length,0])\n",
    "\n",
    "print X_train.shape, X_val.shape\n",
    "print y_train.shape, y_val.shape"
   ]
  },
  {
   "cell_type": "code",
   "execution_count": 8,
   "metadata": {
    "ExecuteTime": {
     "end_time": "2019-02-18T18:42:55.705568Z",
     "start_time": "2019-02-18T18:42:55.333800Z"
    }
   },
   "outputs": [
    {
     "name": "stdout",
     "output_type": "stream",
     "text": [
      "_________________________________________________________________\n",
      "Layer (type)                 Output Shape              Param #   \n",
      "=================================================================\n",
      "dense_1 (Dense)              (None, 512)               401920    \n",
      "_________________________________________________________________\n",
      "activation_1 (Activation)    (None, 512)               0         \n",
      "_________________________________________________________________\n",
      "dense_2 (Dense)              (None, 256)               131328    \n",
      "_________________________________________________________________\n",
      "activation_2 (Activation)    (None, 256)               0         \n",
      "_________________________________________________________________\n",
      "dense_3 (Dense)              (None, 128)               32896     \n",
      "_________________________________________________________________\n",
      "activation_3 (Activation)    (None, 128)               0         \n",
      "_________________________________________________________________\n",
      "dense_4 (Dense)              (None, 10)                1290      \n",
      "_________________________________________________________________\n",
      "activation_4 (Activation)    (None, 10)                0         \n",
      "=================================================================\n",
      "Total params: 567,434\n",
      "Trainable params: 567,434\n",
      "Non-trainable params: 0\n",
      "_________________________________________________________________\n"
     ]
    }
   ],
   "source": [
    "model = Sequential()\n",
    "\n",
    "\n",
    "model.add(Dense(512, input_shape=(784,)))\n",
    "model.add(Activation(\"tanh\"))\n",
    "\n",
    "\n",
    "model.add(Dense(256))\n",
    "model.add(Activation('relu'))\n",
    "\n",
    "model.add(Dense(128))\n",
    "model.add(Activation('relu'))\n",
    "\n",
    "model.add(Dense(10))\n",
    "model.add(Activation('softmax'))\n",
    "\n",
    "model.summary()\n",
    "\n",
    "model.compile(loss = 'categorical_crossentropy', optimizer='adagrad',metrics=['accuracy'])\n"
   ]
  },
  {
   "cell_type": "code",
   "execution_count": 10,
   "metadata": {
    "ExecuteTime": {
     "end_time": "2019-02-18T18:44:47.027916Z",
     "start_time": "2019-02-18T18:44:16.959177Z"
    }
   },
   "outputs": [
    {
     "name": "stdout",
     "output_type": "stream",
     "text": [
      "Train on 11900 samples, validate on 2100 samples\n",
      "Epoch 1/50\n",
      " 3700/11900 [========>.....................] - ETA: 0s - loss: 0.3521 - acc: 0.8903"
     ]
    },
    {
     "name": "stderr",
     "output_type": "stream",
     "text": [
      "/home/cheeku/anaconda2/envs/ml/lib/python2.7/site-packages/keras/models.py:942: UserWarning: The `nb_epoch` argument in `fit` has been renamed `epochs`.\n",
      "  warnings.warn('The `nb_epoch` argument in `fit` '\n"
     ]
    },
    {
     "name": "stdout",
     "output_type": "stream",
     "text": [
      "11900/11900 [==============================] - 1s 47us/step - loss: 0.3237 - acc: 0.8980 - val_loss: 0.3375 - val_acc: 0.8929\n",
      "Epoch 2/50\n",
      "11900/11900 [==============================] - 1s 46us/step - loss: 0.2749 - acc: 0.9124 - val_loss: 0.3015 - val_acc: 0.9067\n",
      "Epoch 3/50\n",
      "11900/11900 [==============================] - 1s 47us/step - loss: 0.2358 - acc: 0.9274 - val_loss: 0.2794 - val_acc: 0.9138\n",
      "Epoch 4/50\n",
      "11900/11900 [==============================] - 1s 54us/step - loss: 0.2029 - acc: 0.9350 - val_loss: 0.2733 - val_acc: 0.9100\n",
      "Epoch 5/50\n",
      "11900/11900 [==============================] - 1s 46us/step - loss: 0.1828 - acc: 0.9400 - val_loss: 0.2430 - val_acc: 0.9219\n",
      "Epoch 6/50\n",
      "11900/11900 [==============================] - 1s 47us/step - loss: 0.1703 - acc: 0.9466 - val_loss: 0.2222 - val_acc: 0.9271\n",
      "Epoch 7/50\n",
      "11900/11900 [==============================] - 1s 54us/step - loss: 0.1550 - acc: 0.9513 - val_loss: 0.2095 - val_acc: 0.9305\n",
      "Epoch 8/50\n",
      "11900/11900 [==============================] - 1s 62us/step - loss: 0.1439 - acc: 0.9551 - val_loss: 0.2240 - val_acc: 0.9314\n",
      "Epoch 9/50\n",
      "11900/11900 [==============================] - 1s 53us/step - loss: 0.1308 - acc: 0.9590 - val_loss: 0.2071 - val_acc: 0.9371\n",
      "Epoch 10/50\n",
      "11900/11900 [==============================] - 1s 52us/step - loss: 0.1223 - acc: 0.9612 - val_loss: 0.2115 - val_acc: 0.9333\n",
      "Epoch 11/50\n",
      "11900/11900 [==============================] - 1s 52us/step - loss: 0.1121 - acc: 0.9645 - val_loss: 0.2135 - val_acc: 0.9300\n",
      "Epoch 12/50\n",
      "11900/11900 [==============================] - 1s 51us/step - loss: 0.1038 - acc: 0.9676 - val_loss: 0.2102 - val_acc: 0.9400\n",
      "Epoch 13/50\n",
      "11900/11900 [==============================] - 1s 52us/step - loss: 0.0972 - acc: 0.9692 - val_loss: 0.2251 - val_acc: 0.9343\n",
      "Epoch 14/50\n",
      "11900/11900 [==============================] - 1s 51us/step - loss: 0.0939 - acc: 0.9705 - val_loss: 0.1930 - val_acc: 0.9386\n",
      "Epoch 15/50\n",
      "11900/11900 [==============================] - 1s 53us/step - loss: 0.0846 - acc: 0.9727 - val_loss: 0.2012 - val_acc: 0.9433\n",
      "Epoch 16/50\n",
      "11900/11900 [==============================] - 1s 53us/step - loss: 0.0802 - acc: 0.9751 - val_loss: 0.1855 - val_acc: 0.9452\n",
      "Epoch 17/50\n",
      "11900/11900 [==============================] - 1s 53us/step - loss: 0.0759 - acc: 0.9776 - val_loss: 0.1901 - val_acc: 0.9414\n",
      "Epoch 18/50\n",
      "11900/11900 [==============================] - 1s 56us/step - loss: 0.0739 - acc: 0.9758 - val_loss: 0.1958 - val_acc: 0.9419\n",
      "Epoch 19/50\n",
      "11900/11900 [==============================] - 1s 62us/step - loss: 0.0694 - acc: 0.9786 - val_loss: 0.1936 - val_acc: 0.9381\n",
      "Epoch 20/50\n",
      "11900/11900 [==============================] - 1s 61us/step - loss: 0.0655 - acc: 0.9813 - val_loss: 0.1918 - val_acc: 0.9438\n",
      "Epoch 21/50\n",
      "11900/11900 [==============================] - 1s 61us/step - loss: 0.0602 - acc: 0.9810 - val_loss: 0.1885 - val_acc: 0.9443\n",
      "Epoch 22/50\n",
      "11900/11900 [==============================] - 1s 56us/step - loss: 0.0517 - acc: 0.9852 - val_loss: 0.1894 - val_acc: 0.9443\n",
      "Epoch 23/50\n",
      "11900/11900 [==============================] - 1s 57us/step - loss: 0.0524 - acc: 0.9844 - val_loss: 0.1856 - val_acc: 0.9467\n",
      "Epoch 24/50\n",
      "11900/11900 [==============================] - 1s 50us/step - loss: 0.0473 - acc: 0.9870 - val_loss: 0.1940 - val_acc: 0.9476\n",
      "Epoch 25/50\n",
      "11900/11900 [==============================] - 1s 48us/step - loss: 0.0460 - acc: 0.9854 - val_loss: 0.1871 - val_acc: 0.9510\n",
      "Epoch 26/50\n",
      "11900/11900 [==============================] - 1s 52us/step - loss: 0.0394 - acc: 0.9881 - val_loss: 0.1837 - val_acc: 0.9486\n",
      "Epoch 27/50\n",
      "11900/11900 [==============================] - 1s 49us/step - loss: 0.0366 - acc: 0.9892 - val_loss: 0.1777 - val_acc: 0.9514\n",
      "Epoch 28/50\n",
      "11900/11900 [==============================] - 1s 44us/step - loss: 0.0339 - acc: 0.9908 - val_loss: 0.1883 - val_acc: 0.9462\n",
      "Epoch 29/50\n",
      "11900/11900 [==============================] - 1s 45us/step - loss: 0.0301 - acc: 0.9936 - val_loss: 0.1853 - val_acc: 0.9471\n",
      "Epoch 30/50\n",
      "11900/11900 [==============================] - 1s 45us/step - loss: 0.0287 - acc: 0.9930 - val_loss: 0.1890 - val_acc: 0.9481\n",
      "Epoch 31/50\n",
      "11900/11900 [==============================] - 1s 45us/step - loss: 0.0264 - acc: 0.9934 - val_loss: 0.1866 - val_acc: 0.9467\n",
      "Epoch 32/50\n",
      "11900/11900 [==============================] - 1s 45us/step - loss: 0.0229 - acc: 0.9940 - val_loss: 0.1899 - val_acc: 0.9457\n",
      "Epoch 33/50\n",
      "11900/11900 [==============================] - 1s 45us/step - loss: 0.0197 - acc: 0.9961 - val_loss: 0.1909 - val_acc: 0.9510\n",
      "Epoch 34/50\n",
      "11900/11900 [==============================] - 1s 44us/step - loss: 0.0185 - acc: 0.9966 - val_loss: 0.1805 - val_acc: 0.9519\n",
      "Epoch 35/50\n",
      "11900/11900 [==============================] - 1s 53us/step - loss: 0.0167 - acc: 0.9968 - val_loss: 0.1854 - val_acc: 0.9552\n",
      "Epoch 36/50\n",
      "11900/11900 [==============================] - 1s 49us/step - loss: 0.0151 - acc: 0.9976 - val_loss: 0.1853 - val_acc: 0.9505\n",
      "Epoch 37/50\n",
      "11900/11900 [==============================] - 1s 54us/step - loss: 0.0141 - acc: 0.9972 - val_loss: 0.1847 - val_acc: 0.9500\n",
      "Epoch 38/50\n",
      "11900/11900 [==============================] - 1s 50us/step - loss: 0.0123 - acc: 0.9987 - val_loss: 0.1821 - val_acc: 0.9514\n",
      "Epoch 39/50\n",
      "11900/11900 [==============================] - 1s 46us/step - loss: 0.0107 - acc: 0.9990 - val_loss: 0.1899 - val_acc: 0.9519\n",
      "Epoch 40/50\n",
      "11900/11900 [==============================] - 1s 46us/step - loss: 0.0090 - acc: 0.9989 - val_loss: 0.1859 - val_acc: 0.9505\n",
      "Epoch 41/50\n",
      "11900/11900 [==============================] - 1s 62us/step - loss: 0.0083 - acc: 0.9995 - val_loss: 0.1926 - val_acc: 0.9514\n",
      "Epoch 42/50\n",
      "11900/11900 [==============================] - 1s 46us/step - loss: 0.0074 - acc: 0.9997 - val_loss: 0.1921 - val_acc: 0.9505\n",
      "Epoch 43/50\n",
      "11900/11900 [==============================] - 1s 46us/step - loss: 0.0063 - acc: 0.9998 - val_loss: 0.1929 - val_acc: 0.9510\n",
      "Epoch 44/50\n",
      "11900/11900 [==============================] - 1s 47us/step - loss: 0.0057 - acc: 0.9998 - val_loss: 0.1921 - val_acc: 0.9557\n",
      "Epoch 45/50\n",
      "11900/11900 [==============================] - 1s 47us/step - loss: 0.0052 - acc: 0.9998 - val_loss: 0.1932 - val_acc: 0.9548\n",
      "Epoch 46/50\n",
      "11900/11900 [==============================] - 1s 46us/step - loss: 0.0046 - acc: 0.9999 - val_loss: 0.1956 - val_acc: 0.9524\n",
      "Epoch 47/50\n",
      "11900/11900 [==============================] - 1s 45us/step - loss: 0.0043 - acc: 0.9999 - val_loss: 0.1953 - val_acc: 0.9524\n",
      "Epoch 48/50\n",
      "11900/11900 [==============================] - 1s 47us/step - loss: 0.0039 - acc: 0.9999 - val_loss: 0.1951 - val_acc: 0.9538\n",
      "Epoch 49/50\n",
      "11900/11900 [==============================] - 1s 46us/step - loss: 0.0036 - acc: 0.9999 - val_loss: 0.1975 - val_acc: 0.9524\n",
      "Epoch 50/50\n",
      "11900/11900 [==============================] - 1s 47us/step - loss: 0.0034 - acc: 1.0000 - val_loss: 0.1974 - val_acc: 0.9538\n"
     ]
    }
   ],
   "source": [
    "hist = model.fit(X_train,y_train,\n",
    "                shuffle=True,\n",
    "                nb_epoch=50,\n",
    "                batch_size=100,\n",
    "                validation_data=(X_val,y_val))"
   ]
  },
  {
   "cell_type": "code",
   "execution_count": 12,
   "metadata": {
    "ExecuteTime": {
     "end_time": "2019-02-18T18:46:41.523636Z",
     "start_time": "2019-02-18T18:46:41.272960Z"
    }
   },
   "outputs": [
    {
     "data": {
      "text/plain": [
       "[<matplotlib.lines.Line2D at 0x7f34a987b490>]"
      ]
     },
     "execution_count": 12,
     "metadata": {},
     "output_type": "execute_result"
    },
    {
     "data": {
      "image/png": "[encoded data removed]",
      "text/plain": [
       "<matplotlib.figure.Figure at 0x7f34a995a050>"
      ]
     },
     "metadata": {},
     "output_type": "display_data"
    },
    {
     "data": {
      "image/png": "[encoded data removed]",
      "text/plain": [
       "<matplotlib.figure.Figure at 0x7f34a98e4b10>"
      ]
     },
     "metadata": {},
     "output_type": "display_data"
    }
   ],
   "source": [
    "plt.figure(0)\n",
    "plt.plot(hist.history['acc'],'r')\n",
    "plt.plot(hist.history['val_acc'],'g')\n",
    "\n",
    "\n",
    "plt.figure(1)\n",
    "plt.plot(hist.history['loss'],'r')\n",
    "plt.plot(hist.history['val_loss'],'g')\n"
   ]
  },
  {
   "cell_type": "code",
   "execution_count": null,
   "metadata": {},
   "outputs": [],
   "source": []
  },
  {
   "cell_type": "code",
   "execution_count": null,
   "metadata": {},
   "outputs": [],
   "source": []
  },
  {
   "cell_type": "code",
   "execution_count": null,
   "metadata": {},
   "outputs": [],
   "source": []
  },
  {
   "cell_type": "code",
   "execution_count": null,
   "metadata": {},
   "outputs": [],
   "source": []
  },
  {
   "cell_type": "code",
   "execution_count": null,
   "metadata": {},
   "outputs": [],
   "source": []
  },
  {
   "cell_type": "code",
   "execution_count": null,
   "metadata": {},
   "outputs": [],
   "source": []
  },
  {
   "cell_type": "code",
   "execution_count": null,
   "metadata": {},
   "outputs": [],
   "source": []
  },
  {
   "cell_type": "code",
   "execution_count": null,
   "metadata": {},
   "outputs": [],
   "source": []
  },
  {
   "cell_type": "code",
   "execution_count": null,
   "metadata": {},
   "outputs": [],
   "source": []
  },
  {
   "cell_type": "code",
   "execution_count": null,
   "metadata": {},
   "outputs": [],
   "source": []
  },
  {
   "cell_type": "code",
   "execution_count": null,
   "metadata": {},
   "outputs": [],
   "source": []
  },
  {
   "cell_type": "code",
   "execution_count": null,
   "metadata": {},
   "outputs": [],
   "source": []
  },
  {
   "cell_type": "code",
   "execution_count": null,
   "metadata": {},
   "outputs": [],
   "source": []
  },
  {
   "cell_type": "code",
   "execution_count": null,
   "metadata": {},
   "outputs": [],
   "source": []
  },
  {
   "cell_type": "code",
   "execution_count": null,
   "metadata": {},
   "outputs": [],
   "source": []
  },
  {
   "cell_type": "code",
   "execution_count": null,
   "metadata": {},
   "outputs": [],
   "source": []
  },
  {
   "cell_type": "code",
   "execution_count": null,
   "metadata": {},
   "outputs": [],
   "source": []
  },
  {
   "cell_type": "code",
   "execution_count": null,
   "metadata": {},
   "outputs": [],
   "source": []
  },
  {
   "cell_type": "code",
   "execution_count": null,
   "metadata": {},
   "outputs": [],
   "source": []
  },
  {
   "cell_type": "code",
   "execution_count": null,
   "metadata": {},
   "outputs": [],
   "source": []
  }
 ],
 "metadata": {
  "kernelspec": {
   "display_name": "Python 2",
   "language": "python",
   "name": "python2"
  },
  "latex_envs": {
   "LaTeX_envs_menu_present": true,
   "autoclose": false,
   "autocomplete": true,
   "bibliofile": "biblio.bib",
   "cite_by": "apalike",
   "current_citInitial": 1,
   "eqLabelWithNumbers": true,
   "eqNumInitial": 1,
   "hotkeys": {
    "equation": "Ctrl-E",
    "itemize": "Ctrl-I"
   },
   "labels_anchors": false,
   "latex_user_defs": false,
   "report_style_numbering": false,
   "user_envs_cfg": false
  },
  "toc": {
   "base_numbering": 1,
   "nav_menu": {},
   "number_sections": true,
   "sideBar": true,
   "skip_h1_title": false,
   "title_cell": "Table of Contents",
   "title_sidebar": "Contents",
   "toc_cell": false,
   "toc_position": {},
   "toc_section_display": true,
   "toc_window_display": false
  }
 },
 "nbformat": 4,
 "nbformat_minor": 2
}
